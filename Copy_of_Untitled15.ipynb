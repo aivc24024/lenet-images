{
  "nbformat": 4,
  "nbformat_minor": 0,
  "metadata": {
    "colab": {
      "provenance": []
    },
    "kernelspec": {
      "name": "python3",
      "display_name": "Python 3"
    },
    "language_info": {
      "name": "python"
    }
  },
  "cells": [
    {
      "cell_type": "code",
      "execution_count": null,
      "metadata": {
        "colab": {
          "base_uri": "https://localhost:8080/"
        },
        "id": "v6ltzc4Ji496",
        "outputId": "2f1b0aab-07e3-4ab9-8a08-060c5a2b4e97"
      },
      "outputs": [
        {
          "output_type": "stream",
          "name": "stdout",
          "text": [
            "\u001b[31mERROR: Could not find a version that satisfies the requirement Conv2D (from versions: none)\u001b[0m\u001b[31m\n",
            "\u001b[0m\u001b[31mERROR: No matching distribution found for Conv2D\u001b[0m\u001b[31m\n",
            "\u001b[0mCollecting Activation\n",
            "  Downloading activation-0.1.0.tar.gz (13 kB)\n",
            "  Preparing metadata (setup.py) ... \u001b[?25l\u001b[?25hdone\n",
            "Requirement already satisfied: Click>=6.0 in /usr/local/lib/python3.11/dist-packages (from Activation) (8.1.8)\n",
            "Building wheels for collected packages: Activation\n",
            "  Building wheel for Activation (setup.py) ... \u001b[?25l\u001b[?25hdone\n",
            "  Created wheel for Activation: filename=activation-0.1.0-py2.py3-none-any.whl size=4068 sha256=526521d279e80990b6ee7cc407e2fc18236fbd28ab9f4b164c3b17fab43ec3c6\n",
            "  Stored in directory: /root/.cache/pip/wheels/63/f0/9a/7e80c8e0b5790ec5970143e6357cf23a1a7fdc82da12e30774\n",
            "Successfully built Activation\n",
            "Installing collected packages: Activation\n",
            "Successfully installed Activation-0.1.0\n",
            "\u001b[31mERROR: Could not find a version that satisfies the requirement Flatten (from versions: none)\u001b[0m\u001b[31m\n",
            "\u001b[0m\u001b[31mERROR: No matching distribution found for Flatten\u001b[0m\u001b[31m\n",
            "\u001b[0m\u001b[31mERROR: Could not find a version that satisfies the requirement Dense (from versions: none)\u001b[0m\u001b[31m\n",
            "\u001b[0m\u001b[31mERROR: No matching distribution found for Dense\u001b[0m\u001b[31m\n",
            "\u001b[0m\u001b[31mERROR: Could not find a version that satisfies the requirement Maxpooling2D (from versions: none)\u001b[0m\u001b[31m\n",
            "\u001b[0m\u001b[31mERROR: No matching distribution found for Maxpooling2D\u001b[0m\u001b[31m\n",
            "\u001b[0mCollecting Sequential\n",
            "  Downloading sequential-1.0.0.tar.gz (2.3 kB)\n",
            "  Preparing metadata (setup.py) ... \u001b[?25l\u001b[?25hdone\n",
            "Building wheels for collected packages: Sequential\n",
            "  Building wheel for Sequential (setup.py) ... \u001b[?25l\u001b[?25hdone\n",
            "  Created wheel for Sequential: filename=sequential-1.0.0-py3-none-any.whl size=2857 sha256=906b501ca75dca439eac28cb8b984240ccb02898de05a781b279d68ade1ff03b\n",
            "  Stored in directory: /root/.cache/pip/wheels/05/ac/b5/068680e1aff2cfe9e3a77e3233bbfb04c612152e6d02089c47\n",
            "Successfully built Sequential\n",
            "Installing collected packages: Sequential\n",
            "Successfully installed Sequential-1.0.0\n"
          ]
        }
      ],
      "source": [
        "!pip install Conv2D\n",
        "!pip install Activation\n",
        "!pip install Flatten\n",
        "!pip install Dense\n",
        "!pip install Maxpooling2D\n",
        "!pip install Sequential\n",
        "from keras import backend as K"
      ]
    },
    {
      "cell_type": "code",
      "source": [
        "class LeNet:\n",
        "\t@staticmethod\n",
        "\tdef build(numChannels, imgRows, imgCols, numClasses,\n",
        "\t\tactivation=\"relu\", weightsPath=None):\n",
        "\t\t# initialize the model\n",
        "\t\tmodel = Sequential()\n",
        "\t\tinputShape = (imgRows, imgCols, numChannels)\n",
        "\t\t# if we are using \"channels first\", update the input shape\n",
        "\t\tif K.image_data_format() == \"channels_first\":\n",
        "\t\t\tinputShape = (numChannels, imgRows, imgCols)"
      ],
      "metadata": {
        "id": "MUCQwKankT3L"
      },
      "execution_count": null,
      "outputs": []
    },
    {
      "cell_type": "code",
      "source": [
        "model.add(Conv2D(20, 5, padding=\"same\",\n",
        "\t\t\tinput_shape=inputShape))\n",
        "model.add(Activation(activation))\n",
        "model.add(MaxPooling2D(pool_size=(2, 2), strides=(2, 2)))"
      ],
      "metadata": {
        "colab": {
          "base_uri": "https://localhost:8080/",
          "height": 193
        },
        "id": "jKEluSyJkFY9",
        "outputId": "9aadb3bb-305b-4a71-b36f-0d2541e95481"
      },
      "execution_count": null,
      "outputs": [
        {
          "output_type": "error",
          "ename": "NameError",
          "evalue": "name 'model' is not defined",
          "traceback": [
            "\u001b[0;31m---------------------------------------------------------------------------\u001b[0m",
            "\u001b[0;31mNameError\u001b[0m                                 Traceback (most recent call last)",
            "\u001b[0;32m<ipython-input-12-9b5d5ddeea04>\u001b[0m in \u001b[0;36m<cell line: 0>\u001b[0;34m()\u001b[0m\n\u001b[0;32m----> 1\u001b[0;31m model.add(Conv2D(20, 5, padding=\"same\",\n\u001b[0m\u001b[1;32m      2\u001b[0m \t\t\tinput_shape=inputShape))\n\u001b[1;32m      3\u001b[0m \u001b[0mmodel\u001b[0m\u001b[0;34m.\u001b[0m\u001b[0madd\u001b[0m\u001b[0;34m(\u001b[0m\u001b[0mActivation\u001b[0m\u001b[0;34m(\u001b[0m\u001b[0mactivation\u001b[0m\u001b[0;34m)\u001b[0m\u001b[0;34m)\u001b[0m\u001b[0;34m\u001b[0m\u001b[0;34m\u001b[0m\u001b[0m\n\u001b[1;32m      4\u001b[0m \u001b[0mmodel\u001b[0m\u001b[0;34m.\u001b[0m\u001b[0madd\u001b[0m\u001b[0;34m(\u001b[0m\u001b[0mMaxPooling2D\u001b[0m\u001b[0;34m(\u001b[0m\u001b[0mpool_size\u001b[0m\u001b[0;34m=\u001b[0m\u001b[0;34m(\u001b[0m\u001b[0;36m2\u001b[0m\u001b[0;34m,\u001b[0m \u001b[0;36m2\u001b[0m\u001b[0;34m)\u001b[0m\u001b[0;34m,\u001b[0m \u001b[0mstrides\u001b[0m\u001b[0;34m=\u001b[0m\u001b[0;34m(\u001b[0m\u001b[0;36m2\u001b[0m\u001b[0;34m,\u001b[0m \u001b[0;36m2\u001b[0m\u001b[0;34m)\u001b[0m\u001b[0;34m)\u001b[0m\u001b[0;34m)\u001b[0m\u001b[0;34m\u001b[0m\u001b[0;34m\u001b[0m\u001b[0m\n",
            "\u001b[0;31mNameError\u001b[0m: name 'model' is not defined"
          ]
        }
      ]
    },
    {
      "cell_type": "code",
      "source": [
        "from keras import backend as K\n",
        "from keras.models import Sequential\n",
        "from keras.layers import Conv2D, Activation, MaxPooling2D, Flatten, Dense\n",
        "\n",
        "class LeNet:\n",
        "\t@staticmethod\n",
        "\tdef build(numChannels, imgRows, imgCols, numClasses,\n",
        "\t\tactivation=\"relu\", weightsPath=None):\n",
        "\t\t# initialize the model\n",
        "\t\tmodel = Sequential()\n",
        "\t\tinputShape = (imgRows, imgCols, numChannels)\n",
        "\t\t# if we are using \"channels first\", update the input shape\n",
        "\t\tif K.image_data_format() == \"channels_first\":\n",
        "\t\t\tinputShape = (numChannels, imgRows, imgCols)\n",
        "\n",
        "\t\tmodel.add(Conv2D(20, 5, padding=\"same\",\n",
        "\t\t\tinput_shape=inputShape))\n",
        "\t\tmodel.add(Activation(activation))\n",
        "\t\tmodel.add(MaxPooling2D(pool_size=(2, 2), strides=(2, 2)))\n",
        "\n",
        "\t\t# The following line was incorrectly indented\n",
        "\t\tmodel.add(Conv2D(50, 5, padding=\"same\")) # Fixed indentation\n",
        "\t\tmodel.add(Activation(activation))\n",
        "\t\tmodel.add(MaxPooling2D(pool_size=(2, 2), strides=(2, 2)))\n",
        "\n",
        "\t\t# Ensure consistent indentation for the following lines:\n",
        "\t\tmodel.add(Flatten())\n",
        "\t\tmodel.add(Dense(500))\n",
        "\t\tmodel.add(Activation(activation))\n",
        "\t\t# define the second FC layer\n",
        "\t\tmodel.add(Dense(numClasses))\n",
        "\t\t# lastly, define the soft-max classifier\n",
        "\t\tmodel.add(Activation(\"softmax\"))\n",
        "\t\t# Fixed indentation here to align with the build method's indentation\n",
        "\t\tif weightsPath is not None:\n",
        "\t\t\tmodel.load_weights(weightsPath)\n",
        "\n",
        "\t\treturn model # return the model"
      ],
      "metadata": {
        "id": "hu6HQSCukr5j"
      },
      "execution_count": null,
      "outputs": []
    },
    {
      "cell_type": "code",
      "source": [
        "!pip install LeNet\n",
        "!pip install np_utils\n",
        "\n",
        "\n",
        "\n",
        "from sklearn.model_selection import train_test_split\n",
        "from keras.datasets import mnist\n",
        "from keras.optimizers import SGD\n",
        "\n",
        "from keras import backend as K\n",
        "import numpy as np\n",
        "import argparse\n",
        "import cv2"
      ],
      "metadata": {
        "colab": {
          "base_uri": "https://localhost:8080/"
        },
        "id": "qQwkEN0Vp47c",
        "outputId": "206b9df3-ba25-4c5b-eb34-3bdefae9f8fc"
      },
      "execution_count": null,
      "outputs": [
        {
          "output_type": "stream",
          "name": "stdout",
          "text": [
            "\u001b[31mERROR: Could not find a version that satisfies the requirement LeNet (from versions: none)\u001b[0m\u001b[31m\n",
            "\u001b[0m\u001b[31mERROR: No matching distribution found for LeNet\u001b[0m\u001b[31m\n",
            "\u001b[0mRequirement already satisfied: np_utils in /usr/local/lib/python3.11/dist-packages (0.6.0)\n",
            "Requirement already satisfied: numpy>=1.0 in /usr/local/lib/python3.11/dist-packages (from np_utils) (2.0.2)\n"
          ]
        }
      ]
    },
    {
      "cell_type": "code",
      "source": [
        "import argparse\n",
        "\n",
        "# Mock the command-line arguments to avoid SystemExit\n",
        "# This allows the script to run without errors in the notebook\n",
        "import sys\n",
        "sys.argv = ['']\n",
        "\n",
        "ap = argparse.ArgumentParser()\n",
        "ap.add_argument(\"-s\", \"--save-model\", type=int, default=-1,\n",
        "    help=\"(optional) whether or not model should be saved to disk\")\n",
        "ap.add_argument(\"-l\", \"--load-model\", type=int, default=-1,\n",
        "    help=\"(optional) whether or not pre-trained model should be loaded\")\n",
        "ap.add_argument(\"-w\", \"--weights\", type=str,\n",
        "    help=\"(optional) path to weights file\")\n",
        "args = vars(ap.parse_args())"
      ],
      "metadata": {
        "id": "TX54F2u0qdIk"
      },
      "execution_count": null,
      "outputs": []
    },
    {
      "cell_type": "code",
      "source": [
        "# grab the MNIST dataset (if this is your first time running this\n",
        "# script, the download may take a minute -- the 55MB MNIST dataset\n",
        "# will be downloaded)\n",
        "print(\"[INFO] downloading MNIST...\")\n",
        "((trainData, trainLabels), (testData, testLabels)) = mnist.load_data()\n",
        "# if we are using \"channels first\" ordering, then reshape the\n",
        "# design matrix such that the matrix is:\n",
        "# num_samples x depth x rows x columns\n",
        "if K.image_data_format() == \"channels_first\":\n",
        "\ttrainData = trainData.reshape((trainData.shape[0], 1, 28, 28))\n",
        "\ttestData = testData.reshape((testData.shape[0], 1, 28, 28))\n",
        "# otherwise, we are using \"channels last\" ordering, so the design\n",
        "# matrix shape should be: num_samples x rows x columns x depth\n",
        "else:\n",
        "\ttrainData = trainData.reshape((trainData.shape[0], 28, 28, 1))\n",
        "\ttestData = testData.reshape((testData.shape[0], 28, 28, 1))\n",
        "# scale data to the range of [0, 1]\n",
        "trainData = trainData.astype(\"float32\") / 255.0\n",
        "testData = testData.astype(\"float32\") / 255.0"
      ],
      "metadata": {
        "colab": {
          "base_uri": "https://localhost:8080/"
        },
        "id": "R6aAAqvnrGLE",
        "outputId": "1f0c3a14-3281-4ad0-ab24-69efdb482f45"
      },
      "execution_count": null,
      "outputs": [
        {
          "output_type": "stream",
          "name": "stdout",
          "text": [
            "[INFO] downloading MNIST...\n"
          ]
        }
      ]
    },
    {
      "cell_type": "code",
      "source": [
        "import numpy as np"
      ],
      "metadata": {
        "id": "rb0-4MDSsJ28"
      },
      "execution_count": null,
      "outputs": []
    },
    {
      "cell_type": "code",
      "source": [
        "with np.load(\"mnist.npz\") as data:\n",
        "    # Access the arrays within the .npz file\n",
        "    train_images = data['x_train']\n",
        "    train_labels = data['y_train']\n",
        "    test_images = data['x_test']\n",
        "    test_labels = data['y_test']\n",
        "\n",
        "# Now you can work with the loaded data\n",
        "print(\"Train images shape:\", train_images.shape)\n",
        "print(\"Train labels shape:\", train_labels.shape)\n",
        "print(\"Test images shape:\", test_images.shape)\n",
        "print(\"Test labels shape:\", test_labels.shape)\n"
      ],
      "metadata": {
        "colab": {
          "base_uri": "https://localhost:8080/"
        },
        "id": "Q6iLKfdXrykV",
        "outputId": "4f654a3b-1d2e-4ad2-d7e7-d04f8c553e1f"
      },
      "execution_count": null,
      "outputs": [
        {
          "output_type": "stream",
          "name": "stdout",
          "text": [
            "Train images shape: (60000, 28, 28)\n",
            "Train labels shape: (60000,)\n",
            "Test images shape: (10000, 28, 28)\n",
            "Test labels shape: (10000,)\n"
          ]
        }
      ]
    },
    {
      "cell_type": "code",
      "source": [
        "!pip install np_utils\n",
        "!apt-get -qq install -y keras.utils-dev && pip install -U keras.utils\n",
        "# Import to_categorical directly from tensorflow.keras.utils\n",
        "from tensorflow.keras.utils import to_categorical\n",
        "\n",
        "trainLabels = to_categorical(trainLabels, 10)\n",
        "testLabels = to_categorical(testLabels, 10)\n",
        "\n",
        "model = LeNet.build(numChannels=1, imgRows=28, imgCols=28,\n",
        "\tnumClasses=10,\n",
        "\tweightsPath=args[\"weights\"] if args[\"load_model\"] > 0 else None)\n",
        "model.compile(loss=\"categorical_crossentropy\",\n",
        "\tmetrics=[\"accuracy\"])"
      ],
      "metadata": {
        "colab": {
          "base_uri": "https://localhost:8080/"
        },
        "id": "cNcp7nUhsj_M",
        "outputId": "c0630057-0986-45d9-cb3a-615bb4c54b6f"
      },
      "execution_count": null,
      "outputs": [
        {
          "output_type": "stream",
          "name": "stdout",
          "text": [
            "Requirement already satisfied: np_utils in /usr/local/lib/python3.11/dist-packages (0.6.0)\n",
            "Requirement already satisfied: numpy>=1.0 in /usr/local/lib/python3.11/dist-packages (from np_utils) (2.0.2)\n",
            "E: Unable to locate package keras.utils-dev\n",
            "E: Couldn't find any package by glob 'keras.utils-dev'\n",
            "E: Couldn't find any package by regex 'keras.utils-dev'\n"
          ]
        }
      ]
    },
    {
      "cell_type": "code",
      "source": [
        "if args[\"load_model\"] < 0:\n",
        "    print(\"[INFO] training...\")\n",
        "    model.fit(trainData, trainLabels, batch_size=128, epochs=20,\n",
        "              verbose=1)\n",
        "\n",
        "    # show the accuracy on the testing set\n",
        "    print(\"[INFO] evaluating...\")\n",
        "    (loss, accuracy) = model.evaluate(testData, testLabels,\n",
        "                                     batch_size=128, verbose=1)\n",
        "    print(\"[INFO] accuracy: {:.2f}%\".format(accuracy * 100))\n",
        "\n"
      ],
      "metadata": {
        "colab": {
          "base_uri": "https://localhost:8080/",
          "height": 228
        },
        "id": "_OS8iEXtvQTX",
        "outputId": "55c6317c-5abf-4dea-e918-277fdb4ef8a9"
      },
      "execution_count": null,
      "outputs": [
        {
          "output_type": "stream",
          "name": "stdout",
          "text": [
            "[INFO] training...\n"
          ]
        },
        {
          "output_type": "error",
          "ename": "NameError",
          "evalue": "name 'model' is not defined",
          "traceback": [
            "\u001b[0;31m---------------------------------------------------------------------------\u001b[0m",
            "\u001b[0;31mNameError\u001b[0m                                 Traceback (most recent call last)",
            "\u001b[0;32m<ipython-input-16-8b91ca70a25c>\u001b[0m in \u001b[0;36m<cell line: 0>\u001b[0;34m()\u001b[0m\n\u001b[1;32m      1\u001b[0m \u001b[0;32mif\u001b[0m \u001b[0margs\u001b[0m\u001b[0;34m[\u001b[0m\u001b[0;34m\"load_model\"\u001b[0m\u001b[0;34m]\u001b[0m \u001b[0;34m<\u001b[0m \u001b[0;36m0\u001b[0m\u001b[0;34m:\u001b[0m\u001b[0;34m\u001b[0m\u001b[0;34m\u001b[0m\u001b[0m\n\u001b[1;32m      2\u001b[0m     \u001b[0mprint\u001b[0m\u001b[0;34m(\u001b[0m\u001b[0;34m\"[INFO] training...\"\u001b[0m\u001b[0;34m)\u001b[0m\u001b[0;34m\u001b[0m\u001b[0;34m\u001b[0m\u001b[0m\n\u001b[0;32m----> 3\u001b[0;31m     model.fit(trainData, trainLabels, batch_size=128, epochs=20,\n\u001b[0m\u001b[1;32m      4\u001b[0m               verbose=1)\n\u001b[1;32m      5\u001b[0m \u001b[0;34m\u001b[0m\u001b[0m\n",
            "\u001b[0;31mNameError\u001b[0m: name 'model' is not defined"
          ]
        }
      ]
    },
    {
      "cell_type": "code",
      "source": [
        "import argparse\n",
        "\n",
        "# Mock the command-line arguments to avoid SystemExit\n",
        "# This allows the script to run without errors in the notebook\n",
        "import sys\n",
        "sys.argv = ['']\n",
        "\n",
        "ap = argparse.ArgumentParser()\n",
        "ap.add_argument(\"-s\", \"--save-model\", type=int, default=-1,\n",
        "    help=\"(optional) whether or not model should be saved to disk\")\n",
        "ap.add_argument(\"-l\", \"--load-model\", type=int, default=-1,\n",
        "    help=\"(optional) whether or not pre-trained model should be loaded\")\n",
        "ap.add_argument(\"-w\", \"--weights\", type=str,\n",
        "    help=\"(optional) path to weights file\")\n",
        "args = vars(ap.parse_args())\n",
        "\n",
        "# grab the MNIST dataset (if this is your first time running this\n",
        "# script, the download may take a minute -- the 55MB MNIST dataset\n",
        "# will be downloaded)\n",
        "print(\"[INFO] downloading MNIST...\")\n",
        "from keras.datasets import mnist\n",
        "((trainData, trainLabels), (testData, testLabels)) = mnist.load_data()\n",
        "# if we are using \"channels first\" ordering, then reshape the\n",
        "# design matrix such that the matrix is:\n",
        "# num_samples x depth x rows x columns\n",
        "from keras import backend as K\n",
        "if K.image_data_format() == \"channels_first\":\n",
        "\ttrainData = trainData.reshape((trainData.shape[0], 1, 28, 28))\n",
        "\ttestData = testData.reshape((testData.shape[0], 1, 28, 28))\n",
        "# otherwise, we are using \"channels last\" ordering, so the design\n",
        "# matrix shape should be: num_samples x rows x columns x depth\n",
        "else:\n",
        "\ttrainData = trainData.reshape((trainData.shape[0], 28, 28, 1))\n",
        "\ttestData = testData.reshape((testData.shape[0], 28, 28, 1))\n",
        "# scale data to the range of [0, 1]\n",
        "trainData = trainData.astype(\"float32\") / 255.0\n",
        "testData = testData.astype(\"float32\") / 255.0\n",
        "\n",
        "# Import to_categorical directly from tensorflow.keras.utils\n",
        "from tensorflow.keras.utils import to_categorical\n",
        "trainLabels = to_categorical(trainLabels, 10)\n",
        "testLabels = to_categorical(testLabels, 10)\n",
        "\n",
        "# Import LeNet class\n",
        "from keras.models import Sequential\n",
        "from keras.layers import Conv2D, Activation, MaxPooling2D, Flatten, Dense\n",
        "\n",
        "class LeNet:\n",
        "\t@staticmethod\n",
        "\tdef build(numChannels, imgRows, imgCols, numClasses,\n",
        "\t\tactivation=\"relu\", weightsPath=None):\n",
        "\t\t# initialize the model\n",
        "\t\tmodel = Sequential()\n",
        "\t\tinputShape = (imgRows, imgCols, numChannels)\n",
        "\t\t# if we are using \"channels first\", update the input shape\n",
        "\t\tif K.image_data_format() == \"channels_first\":\n",
        "\t\t\tinputShape = (numChannels, imgRows, imgCols)\n",
        "\n",
        "\t\tmodel.add(Conv2D(20, 5, padding=\"same\",\n",
        "\t\t\tinput_shape=inputShape))\n",
        "\t\tmodel.add(Activation(activation))\n",
        "\t\tmodel.add(MaxPooling2D(pool_size=(2, 2), strides=(2, 2)))\n",
        "\n",
        "\t\t# The following line was incorrectly indented\n",
        "\t\tmodel.add(Conv2D(50, 5, padding=\"same\")) # Fixed indentation\n",
        "\t\tmodel.add(Activation(activation))\n",
        "\t\tmodel.add(MaxPooling2D(pool_size=(2, 2), strides=(2, 2)))\n",
        "\n",
        "\t\t# Ensure consistent indentation for the following lines:\n",
        "\t\tmodel.add(Flatten())\n",
        "\t\tmodel.add(Dense(500))\n",
        "\t\tmodel.add(Activation(activation))\n",
        "\t\t# define the second FC layer\n",
        "\t\tmodel.add(Dense(numClasses))\n",
        "\t\t# lastly, define the soft-max classifier\n",
        "\t\tmodel.add(Activation(\"softmax\"))\n",
        "\t\t# Fixed indentation here to align with the build method's indentation\n",
        "\t\tif weightsPath is not None:\n",
        "\t\t\tmodel.load_weights(weightsPath)\n",
        "\n",
        "\t\treturn model # return the model\n",
        "\n",
        "# Build and compile the model here\n",
        "model = LeNet.build(numChannels=1, imgRows=28, imgCols=28,\n",
        "\tnumClasses=10,\n",
        "\tweightsPath=args[\"weights\"] if args[\"load_model\"] > 0 else None)\n",
        "# Compile the model\n",
        "from keras.optimizers import SGD\n",
        "model.compile(loss=\"categorical_crossentropy\", optimizer=SGD(0.01),\n",
        "\tmetrics=[\"accuracy\"])\n",
        "\n",
        "if args[\"load_model\"] < 0:\n",
        "    print(\"[INFO] training...\")\n",
        "    model.fit(trainData, trainLabels, batch_size=128, epochs=3,\n",
        "              verbose=1)\n",
        "\n",
        "    # show the accuracy on the testing set\n",
        "    print(\"[INFO] evaluating...\")\n",
        "    (loss, accuracy) = model.evaluate(testData, testLabels,\n",
        "                                     batch_size=128, verbose=1)\n",
        "    print(\"[INFO] accuracy: {:.2f}%\".format(accuracy * 100))"
      ],
      "metadata": {
        "colab": {
          "base_uri": "https://localhost:8080/"
        },
        "id": "N7Su0iaZwivQ",
        "outputId": "34034638-c5d0-4c99-f6f4-c703e30932d1"
      },
      "execution_count": null,
      "outputs": [
        {
          "output_type": "stream",
          "name": "stdout",
          "text": [
            "[INFO] downloading MNIST...\n",
            "[INFO] training...\n",
            "Epoch 1/3\n",
            "\u001b[1m469/469\u001b[0m \u001b[32m━━━━━━━━━━━━━━━━━━━━\u001b[0m\u001b[37m\u001b[0m \u001b[1m107s\u001b[0m 228ms/step - accuracy: 0.4916 - loss: 1.6787\n",
            "Epoch 2/3\n",
            "\u001b[1m469/469\u001b[0m \u001b[32m━━━━━━━━━━━━━━━━━━━━\u001b[0m\u001b[37m\u001b[0m \u001b[1m115s\u001b[0m 244ms/step - accuracy: 0.9083 - loss: 0.3063\n",
            "Epoch 3/3\n",
            "\u001b[1m469/469\u001b[0m \u001b[32m━━━━━━━━━━━━━━━━━━━━\u001b[0m\u001b[37m\u001b[0m \u001b[1m128s\u001b[0m 214ms/step - accuracy: 0.9385 - loss: 0.2087\n",
            "[INFO] evaluating...\n",
            "\u001b[1m79/79\u001b[0m \u001b[32m━━━━━━━━━━━━━━━━━━━━\u001b[0m\u001b[37m\u001b[0m \u001b[1m6s\u001b[0m 79ms/step - accuracy: 0.9464 - loss: 0.1801\n",
            "[INFO] accuracy: 95.38%\n"
          ]
        }
      ]
    },
    {
      "cell_type": "code",
      "source": [
        "if args[\"save_model\"] > 0:\n",
        "\tprint(\"[INFO] dumping weights to file...\")\n",
        "\tmodel.save_weights(args[\"weights\"], overwrite=True)"
      ],
      "metadata": {
        "id": "RSwImcL0yMAn"
      },
      "execution_count": null,
      "outputs": []
    },
    {
      "cell_type": "code",
      "source": [
        "import numpy as np\n",
        "from google.colab.patches import cv2_imshow # Importing the correct function\n",
        "!curl -o logo.png https://colab.research.google.com/img/colab_favicon_256px.png\n",
        "import cv2\n",
        "img = cv2.imread('logo.png', cv2.IMREAD_UNCHANGED)\n",
        "cv2_imshow(img) # Using cv2_imshow instead of cv2.imshow\n",
        "# randomly select a few testing digits\n",
        "for i in np.random.choice(np.arange(0, len(testLabels)), size=(10,)):\n",
        "\t# classify the digit\n",
        "\tprobs = model.predict(testData[np.newaxis, i])\n",
        "\tprediction = probs.argmax(axis=1)\n",
        "\t# extract the image from the testData if using \"channels_first\"\n",
        "\t# ordering\n",
        "\tif K.image_data_format() == \"channels_first\":\n",
        "\t\timage = (testData[i][0] * 255).astype(\"uint8\")\n",
        "\t# otherwise we are using \"channels_last\" ordering\n",
        "\telse:\n",
        "\t\timage = (testData[i] * 255).astype(\"uint8\")\n",
        "\t# merge the channels into one image\n",
        "\timage = cv2.merge([image] * 3)\n",
        "\t# resize the image from a 28 x 28 image to a 96 x 96 image so we\n",
        "\t# can better see it\n",
        "\timage = cv2.resize(image, (96, 96), interpolation=cv2.INTER_LINEAR)\n",
        "\t# show the image and prediction\n",
        "\tcv2.putText(image, str(prediction[0]), (5, 20),\n",
        "\t\t\t\tcv2.FONT_HERSHEY_SIMPLEX, 0.75, (0, 255, 0), 2)\n",
        "\tprint(\"[INFO] Predicted: {}, Actual: {}\".format(prediction[0],\n",
        "\t\tnp.argmax(testLabels[i])))\n",
        "\tcv2_imshow(image) # Using cv2_imshow instead of cv2.imshow\n",
        "\tcv2.waitKey(0)"
      ],
      "metadata": {
        "colab": {
          "base_uri": "https://localhost:8080/",
          "height": 1000
        },
        "id": "AgfcaZIPw752",
        "outputId": "840acea3-79cd-44f5-93f7-9de3015a3f81"
      },
      "execution_count": null,
      "outputs": [
        {
          "output_type": "stream",
          "name": "stdout",
          "text": [
            "  % Total    % Received % Xferd  Average Speed   Time    Time     Time  Current\n",
            "                                 Dload  Upload   Total   Spent    Left  Speed\n",
            "\r  0     0    0     0    0     0      0      0 --:--:-- --:--:-- --:--:--     0\r100  4534  100  4534    0     0  44254      0 --:--:-- --:--:-- --:--:-- 44450\n"
          ]
        },
        {
          "output_type": "display_data",
          "data": {
            "text/plain": [
              "<PIL.Image.Image image mode=RGBA size=260x260>"
            ],
            "image/png": "[encoded data removed]"
          },
          "metadata": {}
        },
        {
          "output_type": "stream",
          "name": "stdout",
          "text": [
            "\u001b[1m1/1\u001b[0m \u001b[32m━━━━━━━━━━━━━━━━━━━━\u001b[0m\u001b[37m\u001b[0m \u001b[1m0s\u001b[0m 38ms/step\n",
            "[INFO] Predicted: 5, Actual: 5\n"
          ]
        },
        {
          "output_type": "display_data",
          "data": {
            "text/plain": [
              "<PIL.Image.Image image mode=RGB size=96x96>"
            ],
            "image/png": "[encoded data removed]",
            "image/jpeg": "[encoded data removed]"
          },
          "metadata": {}
        },
        {
          "output_type": "stream",
          "name": "stdout",
          "text": [
            "\u001b[1m1/1\u001b[0m \u001b[32m━━━━━━━━━━━━━━━━━━━━\u001b[0m\u001b[37m\u001b[0m \u001b[1m0s\u001b[0m 41ms/step\n",
            "[INFO] Predicted: 2, Actual: 2\n"
          ]
        },
        {
          "output_type": "display_data",
          "data": {
            "text/plain": [
              "<PIL.Image.Image image mode=RGB size=96x96>"
            ],
            "image/png": "[encoded data removed]",
            "image/jpeg": "[encoded data removed]"
          },
          "metadata": {}
        },
        {
          "output_type": "stream",
          "name": "stdout",
          "text": [
            "\u001b[1m1/1\u001b[0m \u001b[32m━━━━━━━━━━━━━━━━━━━━\u001b[0m\u001b[37m\u001b[0m \u001b[1m0s\u001b[0m 40ms/step\n",
            "[INFO] Predicted: 3, Actual: 3\n"
          ]
        },
        {
          "output_type": "display_data",
          "data": {
            "text/plain": [
              "<PIL.Image.Image image mode=RGB size=96x96>"
            ],
            "image/png": "[encoded data removed]",
            "image/jpeg": "[encoded data removed]"
          },
          "metadata": {}
        },
        {
          "output_type": "stream",
          "name": "stdout",
          "text": [
            "\u001b[1m1/1\u001b[0m \u001b[32m━━━━━━━━━━━━━━━━━━━━\u001b[0m\u001b[37m\u001b[0m \u001b[1m0s\u001b[0m 41ms/step\n",
            "[INFO] Predicted: 3, Actual: 3\n"
          ]
        },
        {
          "output_type": "display_data",
          "data": {
            "text/plain": [
              "<PIL.Image.Image image mode=RGB size=96x96>"
            ],
            "image/png": "[encoded data removed]",
            "image/jpeg": "[encoded data removed]"
          },
          "metadata": {}
        },
        {
          "output_type": "stream",
          "name": "stdout",
          "text": [
            "\u001b[1m1/1\u001b[0m \u001b[32m━━━━━━━━━━━━━━━━━━━━\u001b[0m\u001b[37m\u001b[0m \u001b[1m0s\u001b[0m 38ms/step\n",
            "[INFO] Predicted: 6, Actual: 1\n"
          ]
        },
        {
          "output_type": "display_data",
          "data": {
            "text/plain": [
              "<PIL.Image.Image image mode=RGB size=96x96>"
            ],
            "image/png": "[encoded data removed]",
            "image/jpeg": "[encoded data removed]"
          },
          "metadata": {}
        },
        {
          "output_type": "stream",
          "name": "stdout",
          "text": [
            "\u001b[1m1/1\u001b[0m \u001b[32m━━━━━━━━━━━━━━━━━━━━\u001b[0m\u001b[37m\u001b[0m \u001b[1m0s\u001b[0m 38ms/step\n",
            "[INFO] Predicted: 5, Actual: 5\n"
          ]
        },
        {
          "output_type": "display_data",
          "data": {
            "text/plain": [
              "<PIL.Image.Image image mode=RGB size=96x96>"
            ],
            "image/png": "[encoded data removed]",
            "image/jpeg": "[encoded data removed]"
          },
          "metadata": {}
        },
        {
          "output_type": "stream",
          "name": "stdout",
          "text": [
            "\u001b[1m1/1\u001b[0m \u001b[32m━━━━━━━━━━━━━━━━━━━━\u001b[0m\u001b[37m\u001b[0m \u001b[1m0s\u001b[0m 38ms/step\n",
            "[INFO] Predicted: 6, Actual: 6\n"
          ]
        },
        {
          "output_type": "display_data",
          "data": {
            "text/plain": [
              "<PIL.Image.Image image mode=RGB size=96x96>"
            ],
            "image/png": "[encoded data removed]",
            "image/jpeg": "[encoded data removed]"
          },
          "metadata": {}
        },
        {
          "output_type": "stream",
          "name": "stdout",
          "text": [
            "\u001b[1m1/1\u001b[0m \u001b[32m━━━━━━━━━━━━━━━━━━━━\u001b[0m\u001b[37m\u001b[0m \u001b[1m0s\u001b[0m 38ms/step\n",
            "[INFO] Predicted: 2, Actual: 2\n"
          ]
        },
        {
          "output_type": "display_data",
          "data": {
            "text/plain": [
              "<PIL.Image.Image image mode=RGB size=96x96>"
            ],
            "image/png": "[encoded data removed]",
            "image/jpeg": "[encoded data removed]"
          },
          "metadata": {}
        },
        {
          "output_type": "stream",
          "name": "stdout",
          "text": [
            "\u001b[1m1/1\u001b[0m \u001b[32m━━━━━━━━━━━━━━━━━━━━\u001b[0m\u001b[37m\u001b[0m \u001b[1m0s\u001b[0m 46ms/step\n",
            "[INFO] Predicted: 8, Actual: 8\n"
          ]
        },
        {
          "output_type": "display_data",
          "data": {
            "text/plain": [
              "<PIL.Image.Image image mode=RGB size=96x96>"
            ],
            "image/png": "[encoded data removed]",
            "image/jpeg": "[encoded data removed]"
          },
          "metadata": {}
        },
        {
          "output_type": "stream",
          "name": "stdout",
          "text": [
            "\u001b[1m1/1\u001b[0m \u001b[32m━━━━━━━━━━━━━━━━━━━━\u001b[0m\u001b[37m\u001b[0m \u001b[1m0s\u001b[0m 37ms/step\n",
            "[INFO] Predicted: 2, Actual: 2\n"
          ]
        },
        {
          "output_type": "display_data",
          "data": {
            "text/plain": [
              "<PIL.Image.Image image mode=RGB size=96x96>"
            ],
            "image/png": "[encoded data removed]",
            "image/jpeg": "[encoded data removed]"
          },
          "metadata": {}
        }
      ]
    }
  ]
}